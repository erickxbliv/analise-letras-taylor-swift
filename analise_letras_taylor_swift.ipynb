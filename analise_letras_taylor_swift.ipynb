{
  "nbformat": 4,
  "nbformat_minor": 0,
  "metadata": {
    "colab": {
      "provenance": []
    },
    "kernelspec": {
      "name": "python3",
      "display_name": "Python 3"
    },
    "language_info": {
      "name": "python"
    }
  },
  "cells": [
    {
      "cell_type": "markdown",
      "source": [
        "# Análise de letras da Taylor Swift com Python e Machine Learning 🎤🎶✨\n",
        "\n",
        "Taylor Alison Swift é uma cantora, compositora, musicista, atriz, diretora, roteirista norte-americana que nasceu no estado da Pensivânia nos Estados Unidos da América. Considerada uma das maiores artistas da atualidade, suas composições são emotivas e marcantes inspiradas em experiências pessoas, ou não, já receberam vários prêmios ao longo de sua carreira.\n",
        "\n",
        "Aqui analisaremos suas composições ao longos dos anos, em busca de temas, padrões e análise de sentimentos.\n",
        "\n"
      ],
      "metadata": {
        "id": "iIoSQNrb2TdG"
      }
    },
    {
      "cell_type": "markdown",
      "source": [
        "## Bibliotecas\n",
        "\n",
        "O primeiro passo do projeto é importar as bibliotecas necessárias para o desenvolvimento das ideias."
      ],
      "metadata": {
        "id": "qSTL0rTS-52w"
      }
    },
    {
      "cell_type": "code",
      "execution_count": null,
      "metadata": {
        "id": "o8E8b_mA1qzD"
      },
      "outputs": [],
      "source": [
        "%matplotlib inline\n",
        "\n",
        "import pandas as pd\n",
        "import string\n",
        "import seaborn as sns\n",
        "import matplotlib.pyplot as plt\n",
        "import collections\n",
        "import nltk\n",
        "from nltk.tokenize import word_tokenize\n",
        "from nltk.sentiment import SentimentIntensityAnalyzer"
      ]
    },
    {
      "cell_type": "markdown",
      "source": [
        "## Base de Dados\n",
        "\n",
        "### Sobre a Base de Dados\n",
        "\n",
        "A base de dados que será usada nesse projeto foi publicada no [Kaggle](https://www.kaggle.com/datasets/thespacefreak/taylor-swift-song-lyrics-all-albums) por Jan Llenzl Dagohoy e possui todos os álbuns lançados pela Taylor Swift até 20 de outubro de 2022. Sendo eles:\n",
        "\n",
        "* Taylor Swift (2006)\n",
        "* Fearless (2008)\n",
        "* Speak Now (2010)\n",
        "* Red (2012)\n",
        "* 1989 (2014)\n",
        "* Reputation (2017)\n",
        "* Lover (2019)\n",
        "* Folklore (2020)\n",
        "* Evermore (2020)\n",
        "\n",
        "Portanto, a base de dados não possui o Midnights, seu último trabalho, lançado em 21 de outubro de 2022 e os álbuns Speak Now e Red não são Taylor's Version. Precisando, assim, de uma adaptação.\n",
        "\n",
        "### Carregando a Base de Dados"
      ],
      "metadata": {
        "id": "fS4nzUv59D3L"
      }
    },
    {
      "cell_type": "code",
      "source": [],
      "metadata": {
        "id": "VjddBYWcAplZ"
      },
      "execution_count": null,
      "outputs": []
    }
  ]
}